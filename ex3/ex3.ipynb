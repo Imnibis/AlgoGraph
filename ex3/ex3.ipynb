{
 "cells": [
  {
   "cell_type": "markdown",
   "metadata": {},
   "source": [
    "### Partie 3 : Complexities\n",
    "\n",
    "Dans cette partie nous allons déterminer les complexités des fonctions présentes dans le fichier exercise_3_functions.py\n"
   ]
  },
  {
   "cell_type": "markdown",
   "metadata": {},
   "source": [
    "#### Exercice 1 : Recherche de la complexité selon la limite supérieure\n",
    "\n",
    "1. **function_1**"
   ]
  },
  {
   "cell_type": "code",
   "execution_count": null,
   "metadata": {},
   "outputs": [],
   "source": [
    "def function_1(n: int) -> None:\n",
    "    \"\"\"\n",
    "    compute the time complexity of running\n",
    "    this function as a function of n.\n",
    "    \"\"\"\n",
    "    temp_list = lit()\n",
    "    for i in range(n**2):\n",
    "        temp = 0\n",
    "        for j in range(i):\n",
    "            temp += j              \n",
    "        temp_list.append(temp)\n",
    "    sum(temp_list)"
   ]
  },
  {
   "cell_type": "markdown",
   "metadata": {},
   "source": [
    "Analysons le code précédant ligne par ligne:\n",
    "1. ```temp_list = list()```  \n",
    "    --> cette ligne a une complexité **O(1)**\n",
    "\n",
    "2. ```for i in range(n**2)```  \n",
    "    --> cette boucle va s'effectuer n² fois. Ainsi sa complexité équivaut à la somme des coûts des instructions de sa boucle multiplié par n².\n",
    "\n",
    "3. ```temp = 0```  \n",
    "    --> cette ligne s'exécute à chaque itération de la boucle et sa complexité est **O(1)**\n",
    "\n",
    "4. ```for j in range(i):```  \n",
    "    --> cette boucle va s'effectuer 'i' fois pour chaque valeur de 'i' allant de 0 à \n",
    "    (n² - 1). Cette somme peut s'écrire :  \n",
    "    >\n",
    "    >$\\sum_{i=0}^{n^2 - 1} i$ = $\\frac{(n^2 - 1).n^2}{2}$ ≃ $\\frac{n^4}{2}$  \n",
    "    >  \n",
    "    --> la complexité de cette boucle dépend de ses instructions, ici la seule instruction de la boucle est :\n",
    "    >\n",
    "    > temp += j\n",
    "    >\n",
    "    ce qui équivaut à une complexité de **O(1)**  \n",
    "    --> Ainsi cette la complexité de la boucle peut être traduite par :\n",
    "    >\n",
    "    > O($\\frac{n^4}{2}$) = O($n^4$)\n",
    "    >\n",
    "\n",
    "5. ```temp_list.append(temp)```  \n",
    "    --> cette ligne s'effectue n² fois ainsi le coût de cette ligne est **O(n²)**  \n",
    "\n",
    "6.  ```sum(temp_list)```  \n",
    "    --> cette ligne calcule la somme des éléments de temp_list qui contient n² éléments. Ainsi son coût est **O(n²)**.\n",
    "\n",
    "Ainsi en calculant la complexité on peut voir que :  \n",
    "    --> O(1) et O(n²) sont négligeable comparé à O($n^4$)  \n",
    "    --> La complexité totale de la function_1 est donc :  \n",
    ">\n",
    ">**O($n^4$)**\n",
    ">\n",
    "     "
   ]
  },
  {
   "cell_type": "markdown",
   "metadata": {},
   "source": [
    "2. **function_2**"
   ]
  },
  {
   "cell_type": "code",
   "execution_count": null,
   "metadata": {},
   "outputs": [],
   "source": [
    "def function_2(n: int) -> None:\n",
    "    \"\"\"\n",
    "    compute the time complexity of running\n",
    "    this function as a function of n.\n",
    "\n",
    "    do not hesitate to do some reseach about the\n",
    "    complexity of the functions used and to average\n",
    "    the measured times over a number of trials if necessary.\n",
    "    \"\"\"\n",
    "    print(n)\n",
    "    for i in range(n):\n",
    "        temp_list = [j+i for j in range(n)]\n",
    "        shuffle(temp_list)\n",
    "        max(temp_list)"
   ]
  },
  {
   "cell_type": "markdown",
   "metadata": {},
   "source": [
    "Analysons le code précédant ligne par ligne:\n",
    "1. ```print(n)```    \n",
    "    --> affiche juste n donc **O(1)**\n",
    "\n",
    "2. ```for i in range(n)```  \n",
    "    --> La complexité de cette boucle équivaut à la somme de ses instructions. Elle s'effectue n fois.\n",
    "\n",
    "3. ```temp_list = [j+i for j in range(n)]```  \n",
    "    --> On additionne j et i pour chaque j dans n. Cette ligne à une complexité de **O(n)**\n",
    "\n",
    "4. ```shuffle(temp_list)```  \n",
    "    --> La complexité de cette fonction est **O(n)** (trouvé après une recherche de la documentation de la fonction)\n",
    "\n",
    "5.  ```max(temp_list)```  \n",
    "    --> La complexité de cette fonction est **O(n)** (trouvé après une recherche de la documentation de la fonction)\n",
    "\n",
    "Ainsi on peut calculer la complexité de la fonction :  \n",
    "--> On peut trouver la complexité de La boucle (ligne 2) en additionnant les complexités des instructions de la boucle :\n",
    ">\n",
    "> O(n) + O(n) + O(n) = O(3n) = O(n)\n",
    ">\n",
    "--> Cette boucle s'effectue n fois donc :  \n",
    ">\n",
    "> n.O(n) = O(n²)\n",
    ">\n",
    "\n",
    "Ainsi la complexité de cette boucle est **O(n²)**"
   ]
  }
 ],
 "metadata": {
  "kernelspec": {
   "display_name": "Python 3",
   "language": "python",
   "name": "python3"
  },
  "language_info": {
   "codemirror_mode": {
    "name": "ipython",
    "version": 3
   },
   "file_extension": ".py",
   "mimetype": "text/x-python",
   "name": "python",
   "nbconvert_exporter": "python",
   "pygments_lexer": "ipython3",
   "version": "3.11.7"
  }
 },
 "nbformat": 4,
 "nbformat_minor": 2
}
